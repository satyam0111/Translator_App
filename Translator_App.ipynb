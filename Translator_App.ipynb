{
  "nbformat": 4,
  "nbformat_minor": 0,
  "metadata": {
    "colab": {
      "provenance": []
    },
    "kernelspec": {
      "name": "python3",
      "display_name": "Python 3"
    },
    "language_info": {
      "name": "python"
    }
  },
  "cells": [
    {
      "cell_type": "code",
      "source": [
        "pip install translate"
      ],
      "metadata": {
        "colab": {
          "base_uri": "https://localhost:8080/"
        },
        "id": "NZjQqj_w1xyJ",
        "outputId": "f4d672d6-f8a3-4bf8-a193-aa15539e2ec1"
      },
      "execution_count": null,
      "outputs": [
        {
          "output_type": "stream",
          "name": "stdout",
          "text": [
            "Collecting translate\n",
            "  Downloading translate-3.6.1-py2.py3-none-any.whl (12 kB)\n",
            "Requirement already satisfied: click in /usr/local/lib/python3.10/dist-packages (from translate) (8.1.6)\n",
            "Requirement already satisfied: lxml in /usr/local/lib/python3.10/dist-packages (from translate) (4.9.3)\n",
            "Requirement already satisfied: requests in /usr/local/lib/python3.10/dist-packages (from translate) (2.27.1)\n",
            "Collecting libretranslatepy==2.1.1 (from translate)\n",
            "  Downloading libretranslatepy-2.1.1-py3-none-any.whl (3.2 kB)\n",
            "Requirement already satisfied: urllib3<1.27,>=1.21.1 in /usr/local/lib/python3.10/dist-packages (from requests->translate) (1.26.16)\n",
            "Requirement already satisfied: certifi>=2017.4.17 in /usr/local/lib/python3.10/dist-packages (from requests->translate) (2023.7.22)\n",
            "Requirement already satisfied: charset-normalizer~=2.0.0 in /usr/local/lib/python3.10/dist-packages (from requests->translate) (2.0.12)\n",
            "Requirement already satisfied: idna<4,>=2.5 in /usr/local/lib/python3.10/dist-packages (from requests->translate) (2.10)\n",
            "Installing collected packages: libretranslatepy, translate\n",
            "Successfully installed libretranslatepy-2.1.1 translate-3.6.1\n"
          ]
        }
      ]
    },
    {
      "cell_type": "code",
      "source": [
        "from translate import Translator\n",
        "\n",
        "def translate_text(source_text, source_language, target_language):\n",
        "    translator = Translator(from_lang=source_language, to_lang=target_language)\n",
        "    translation = translator.translate(source_text)\n",
        "    return translation\n",
        "\n",
        "if __name__ == \"__main__\":\n",
        "    print(\"Supported language codes:\")\n",
        "    print(\"English: en, Spanish: es, French: fr, Hindi: hi, German: de, Chinese: zh, Japanese: ja, Russian: ru\")\n",
        "    print(\"Enter the source language code:\")\n",
        "    source_language_code = input().lower()\n",
        "\n",
        "    print(\"Enter the target language code:\")\n",
        "    target_language_code = input().lower()\n",
        "\n",
        "    print(\"Enter the text you want to translate:\")\n",
        "    source_text = input()\n",
        "\n",
        "    try:\n",
        "        translated_text = translate_text(source_text, source_language_code, target_language_code)\n",
        "        print(\"Translated text:\")\n",
        "        print(translated_text)\n",
        "    except Exception as e:\n",
        "        print(\"Translation Error:\", e)\n"
      ],
      "metadata": {
        "colab": {
          "base_uri": "https://localhost:8080/"
        },
        "id": "yfsB5d0v1z5N",
        "outputId": "d4f4bc3b-2734-44c8-9c23-ced3c63b5c45"
      },
      "execution_count": null,
      "outputs": [
        {
          "output_type": "stream",
          "name": "stdout",
          "text": [
            "Supported language codes:\n",
            "English: en, Spanish: es, French: fr, Hindi: hi, German: de, Chinese: zh, Japanese: ja, Russian: ru\n",
            "Enter the source language code:\n",
            "en\n",
            "Enter the target language code:\n",
            "de\n",
            "Enter the text you want to translate:\n",
            "I am satyam\n",
            "Translated text:\n",
            "Ich bin Satyam\n"
          ]
        }
      ]
    }
  ]
}